{
  "nbformat": 4,
  "nbformat_minor": 0,
  "metadata": {
    "colab": {
      "provenance": []
    },
    "kernelspec": {
      "name": "python3",
      "display_name": "Python 3"
    },
    "language_info": {
      "name": "python"
    }
  },
  "cells": [
    {
      "cell_type": "markdown",
      "source": [
        "**Count the number of digits in N which evenly divides N.**"
      ],
      "metadata": {
        "id": "txLtSooGHPpy"
      }
    },
    {
      "cell_type": "code",
      "source": [
        "def count_evenly_divides(N):\n",
        "    count = 0\n",
        "    N_str = str(N)\n",
        "    for digit in N_str:\n",
        "        if int(digit) != 0 and N % int(digit) == 0:\n",
        "            count += 1\n",
        "    return count\n",
        "N = 12\n",
        "print(count_evenly_divides(N))"
      ],
      "metadata": {
        "colab": {
          "base_uri": "https://localhost:8080/"
        },
        "id": "tZRYMP3mHnpb",
        "outputId": "3fb04cdc-2d0f-4103-978a-4a9b4d9e0afa"
      },
      "execution_count": null,
      "outputs": [
        {
          "output_type": "stream",
          "name": "stdout",
          "text": [
            "2\n"
          ]
        }
      ]
    },
    {
      "cell_type": "markdown",
      "source": [
        "**Find median of an array**"
      ],
      "metadata": {
        "id": "t88G4aTwHDWe"
      }
    },
    {
      "cell_type": "code",
      "source": [
        "v=[3,45,2,67,89,1]\n",
        "n=len(v)\n",
        "for i in range(n):\n",
        "  for j in range(n-i-1):\n",
        "    if (v[j]>v[j+1]):\n",
        "      v[j],v[j+1]=v[j+1],v[j]\n",
        "print(v)\n",
        "if n%2==0:\n",
        "  m1=v[n//2]\n",
        "  m2=v[(n//2)-1]\n",
        "  m=(m1+m2)//2\n",
        "  print(m)\n",
        "else:\n",
        "  b=v[n//2]\n",
        "  print(b)\n"
      ],
      "metadata": {
        "colab": {
          "base_uri": "https://localhost:8080/"
        },
        "id": "SxsttPgdqEDn",
        "outputId": "3401f683-e745-40c1-df66-ef39246b8dbf"
      },
      "execution_count": null,
      "outputs": [
        {
          "output_type": "stream",
          "name": "stdout",
          "text": [
            "[1, 2, 3, 45, 67, 89]\n",
            "24\n"
          ]
        }
      ]
    },
    {
      "cell_type": "markdown",
      "source": [
        "**Factorial using Recursion**"
      ],
      "metadata": {
        "id": "y87PvMt7G9F8"
      }
    },
    {
      "cell_type": "code",
      "source": [
        "def c(n):\n",
        "  if n==1:\n",
        "    return 1\n",
        "  else:\n",
        "    return n*c(n-1)\n",
        "n=3\n",
        "print(c(n))"
      ],
      "metadata": {
        "colab": {
          "base_uri": "https://localhost:8080/"
        },
        "id": "2HqqvZQPqD7Q",
        "outputId": "0808d63b-c855-4a25-932a-dfdfe98a29ff"
      },
      "execution_count": null,
      "outputs": [
        {
          "output_type": "stream",
          "name": "stdout",
          "text": [
            "6\n"
          ]
        }
      ]
    },
    {
      "cell_type": "markdown",
      "source": [
        "**Print 1 to N without loop**"
      ],
      "metadata": {
        "id": "dAq32jkPG36q"
      }
    },
    {
      "cell_type": "code",
      "source": [
        "def p(n):\n",
        "  if n==0:\n",
        "    return 1\n",
        "  p(n-1)\n",
        "  print(n, end=\" \")\n",
        "n=10\n",
        "b=p(n)"
      ],
      "metadata": {
        "colab": {
          "base_uri": "https://localhost:8080/"
        },
        "id": "ZMAEgO5KADBZ",
        "outputId": "2e05d4e4-f398-4182-e3f2-6930bedb8b52"
      },
      "execution_count": null,
      "outputs": [
        {
          "output_type": "stream",
          "name": "stdout",
          "text": [
            "1 2 3 4 5 6 7 8 9 10 "
          ]
        }
      ]
    },
    {
      "cell_type": "markdown",
      "source": [
        "**To find the elements whose value is equal to that of its index value**"
      ],
      "metadata": {
        "id": "HY9JYIkWHtoS"
      }
    },
    {
      "cell_type": "code",
      "source": [
        "def valueEqualToIndex(arr, n):\n",
        "  result = []\n",
        "  for i in range(len(arr)):\n",
        "    if arr[i] == i + 1:\n",
        "      result.append(arr[i])\n",
        "  return result\n",
        "\n",
        "arr=[3,6,2,67]\n",
        "n=5\n",
        "a=valueEqualToIndex(arr,n)\n",
        "print(a)\n"
      ],
      "metadata": {
        "colab": {
          "base_uri": "https://localhost:8080/"
        },
        "id": "YKJ7YjQ9HuHg",
        "outputId": "601c674a-8994-4050-ab09-f4bff558ef1d"
      },
      "execution_count": null,
      "outputs": [
        {
          "output_type": "stream",
          "name": "stdout",
          "text": [
            "[]\n"
          ]
        }
      ]
    },
    {
      "cell_type": "markdown",
      "source": [
        "**Reverse the string using recursion**"
      ],
      "metadata": {
        "id": "mwLJqQ6JVgSn"
      }
    },
    {
      "cell_type": "code",
      "source": [
        "def re(s):\n",
        "    if len(s) == 0:\n",
        "        return s\n",
        "    else:\n",
        "       return re(s[1:])+s[0]\n",
        "s=\"shivu\"\n",
        "a=re(s)\n",
        "print(a)"
      ],
      "metadata": {
        "colab": {
          "base_uri": "https://localhost:8080/"
        },
        "id": "GBGZZ83KKbCb",
        "outputId": "3ff3d41e-4fd4-4fbd-f474-9d6fff2dedc5"
      },
      "execution_count": null,
      "outputs": [
        {
          "output_type": "stream",
          "name": "stdout",
          "text": [
            "uvihs\n"
          ]
        }
      ]
    },
    {
      "cell_type": "markdown",
      "source": [
        "**Print Multiplication Table**"
      ],
      "metadata": {
        "id": "-gwMse9ug_JI"
      }
    },
    {
      "cell_type": "code",
      "source": [
        "def getTable(N):\n",
        "  for i in range(1,11):\n",
        "    print(N*i,end=\" \")\n",
        "N=2\n",
        "a=getTable(N)"
      ],
      "metadata": {
        "colab": {
          "base_uri": "https://localhost:8080/"
        },
        "id": "h1hxdAXGYX5H",
        "outputId": "bec71dc5-f8f5-474f-a94f-c98f24ece4a3"
      },
      "execution_count": null,
      "outputs": [
        {
          "output_type": "stream",
          "name": "stdout",
          "text": [
            "2 4 6 8 10 12 14 16 18 20 "
          ]
        }
      ]
    },
    {
      "cell_type": "markdown",
      "source": [
        "**Check binary or not**"
      ],
      "metadata": {
        "id": "L9i73D60TPG0"
      }
    },
    {
      "cell_type": "code",
      "source": [
        "str=\"101\"\n",
        "if str.count('0')+str.count('1')==len(str):\n",
        "  print(\"Binary number\")\n",
        "else:\n",
        "  print(\"Random number\")"
      ],
      "metadata": {
        "id": "yPJVy_eIhIW0",
        "colab": {
          "base_uri": "https://localhost:8080/"
        },
        "outputId": "dbe80e07-c6d4-4ce9-bb90-af00fe73ce3b"
      },
      "execution_count": 18,
      "outputs": [
        {
          "output_type": "stream",
          "name": "stdout",
          "text": [
            "Binary number\n"
          ]
        }
      ]
    },
    {
      "cell_type": "markdown",
      "source": [
        "**Reverse Digit**"
      ],
      "metadata": {
        "id": "bGl0Sa-0Zklc"
      }
    },
    {
      "cell_type": "code",
      "source": [
        "n=9870\n",
        "rev=f'{n}'\n",
        "print(int(rev[::-1]))"
      ],
      "metadata": {
        "colab": {
          "base_uri": "https://localhost:8080/"
        },
        "id": "jZN5nReqTSj1",
        "outputId": "1be3a0b1-4715-4f31-e60c-d5cd4cae28c5"
      },
      "execution_count": 26,
      "outputs": [
        {
          "output_type": "stream",
          "name": "stdout",
          "text": [
            "789\n"
          ]
        }
      ]
    },
    {
      "cell_type": "markdown",
      "source": [
        "**To check an Armstrong Number**"
      ],
      "metadata": {
        "id": "4-vghDGiJeCr"
      }
    },
    {
      "cell_type": "code",
      "source": [
        "def armstrongNumber (n):\n",
        "  s=0\n",
        "  t=n\n",
        "  while t>0:\n",
        "    d=t%10\n",
        "    s += d ** 3\n",
        "    t=t//10\n",
        "  if n==s:\n",
        "    return \"Yes\"\n",
        "  else:\n",
        "    return \"No\"\n",
        "n=153\n",
        "ans=armstrongNumber(n)\n",
        "print(ans)\n"
      ],
      "metadata": {
        "colab": {
          "base_uri": "https://localhost:8080/"
        },
        "id": "ssWO5cWFZpDs",
        "outputId": "93a530ed-772f-47f1-a838-07ac2148d4ac"
      },
      "execution_count": 1,
      "outputs": [
        {
          "output_type": "stream",
          "name": "stdout",
          "text": [
            "Yes\n"
          ]
        }
      ]
    }
  ]
}